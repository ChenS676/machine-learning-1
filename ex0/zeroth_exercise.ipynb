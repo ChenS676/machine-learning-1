{
 "cells": [
  {
   "cell_type": "code",
   "execution_count": 1,
   "metadata": {},
   "outputs": [],
   "source": [
    "# Zeroth Exercise"
   ]
  },
  {
   "cell_type": "markdown",
   "metadata": {
    "pycharm": {
     "name": "#%% md\n"
    }
   },
   "source": [
    "### Exercise 1: Matrices and Vectors in Python\n",
    "As mentioned, we will use Python for the coding exercise. We will use version 3.6.\n",
    "Additionally, for this and all following exercise we will use NumPy, one of the most fundamental python libraries,\n",
    "designed to efficiently create and operate on multi-dimensional arrays (, i.e., vectors, matrices and higher order tensors)\n",
    "\n",
    "#### 1.1 Create Matrices and Vectors in Python\n",
    "We first create a matrix <br>\n",
    "\\begin{align*}A =\n",
    "\\begin{pmatrix}\n",
    "    1 & 2 & 3 \\\\\n",
    "    4 & 2 & 6 \\\\\n",
    "    7 & 3 & 8\n",
    "\\end{pmatrix}\n",
    "\\end{align*}\n",
    "and two vectors <br>\n",
    "\n",
    "\\begin{align*} v =\n",
    "\\begin{pmatrix}\n",
    "    3  \\\\\n",
    "    1  \\\\\n",
    "    2\n",
    "\\end{pmatrix}, ~w =\n",
    "\\begin{pmatrix}\n",
    "    1  \\\\\n",
    "    1  \\\\\n",
    "    2\n",
    "\\end{pmatrix}\n",
    "\\end{align*}\n",
    "\n"
   ]
  },
  {
   "cell_type": "code",
   "execution_count": 2,
   "metadata": {
    "pycharm": {
     "name": "#%%\n"
    }
   },
   "outputs": [
    {
     "name": "stdout",
     "output_type": "stream",
     "text": [
      "Matrix A:\n",
      "[[1 2 3]\n",
      " [4 2 6]\n",
      " [7 3 8]]\n",
      "Vector v:\n",
      "[3 1 2]\n",
      "Vector w:\n",
      "[1 1 2]\n"
     ]
    }
   ],
   "source": [
    "import numpy as np\n",
    "\n",
    "# Let us create a matrix A and vectors v and w:\n",
    "A = np.array([[1, 2, 3],\n",
    "              [4 ,2, 6],\n",
    "              [7, 3, 8]])\n",
    "v = np.array([3, 1, 2])\n",
    "w = np.array([1, 1, 2])\n",
    "print(\"Matrix A:\")\n",
    "print(A)\n",
    "print(\"Vector v:\")\n",
    "print(v)\n",
    "print(\"Vector w:\")\n",
    "print(w)"
   ]
  },
  {
   "cell_type": "markdown",
   "metadata": {},
   "source": [
    "#### 1.2 Basic Operations with Vectors and Matrices\n",
    "*1.2.1* Implement the  v + w and 2 $\\cdot$ A. Print out your results and verify that they are correct.<br> <br>\n",
    "*1.2.2* Do the matrix vector product A $\\cdot$ v. Print out your result and verify that the result is correct. <br> <br>\n",
    "*1.2.3* Do the matrix matrix product A $\\cdot$ A. Print out your result and verify that the result is correct."
   ]
  },
  {
   "cell_type": "markdown",
   "metadata": {},
   "source": [
    "###### Loesung 1.2 Implementation"
   ]
  },
  {
   "cell_type": "code",
   "execution_count": 3,
   "metadata": {},
   "outputs": [
    {
     "name": "stdout",
     "output_type": "stream",
     "text": [
      "result of v + m is [4 2 4]\n"
     ]
    }
   ],
   "source": [
    "elem_wise_sum = v + w\n",
    "print(f\"result of v + m is {elem_wise_sum}\")"
   ]
  },
  {
   "cell_type": "code",
   "execution_count": 4,
   "metadata": {},
   "outputs": [
    {
     "name": "stdout",
     "output_type": "stream",
     "text": [
      "result of 2*A is \n",
      " [[ 2  4  6]\n",
      " [ 8  4 12]\n",
      " [14  6 16]]\n"
     ]
    }
   ],
   "source": [
    "elem_wise_mult = 2*A\n",
    "print(f\"result of 2*A is \\n {elem_wise_mult}\")"
   ]
  },
  {
   "cell_type": "code",
   "execution_count": 5,
   "metadata": {},
   "outputs": [
    {
     "name": "stdout",
     "output_type": "stream",
     "text": [
      "the result of A matrix multipled with v is [11 26 40]\n"
     ]
    }
   ],
   "source": [
    "matrix_vector_prod = np.dot(A, v)\n",
    "print(f\"the result of A matrix multipled with v is {matrix_vector_prod}\")"
   ]
  },
  {
   "cell_type": "code",
   "execution_count": 6,
   "metadata": {},
   "outputs": [
    {
     "name": "stdout",
     "output_type": "stream",
     "text": [
      "[[ 30  15  39]\n",
      " [ 54  30  72]\n",
      " [ 75  44 103]]\n"
     ]
    }
   ],
   "source": [
    "# Two matrices can be multiplied in the same fashion:\n",
    "matrix_matrix_prod = A@A\n",
    "print(matrix_matrix_prod)"
   ]
  },
  {
   "cell_type": "markdown",
   "metadata": {},
   "source": [
    "###### Loesung  1.2 Verification"
   ]
  },
  {
   "cell_type": "markdown",
   "metadata": {},
   "source": [
    "v + w = $\\begin{bmatrix}\n",
    "3& 1& 2\\\\\n",
    "\\end{bmatrix}+ \n",
    "\\begin{bmatrix}\n",
    "1& 1& 2\\\\\n",
    "\\end{bmatrix}=\n",
    "\\begin{bmatrix}\n",
    "4& 2& 4\\\\\n",
    "\\end{bmatrix}$\n",
    "\n",
    "\n",
    "2*A = $2 * \\begin{bmatrix}\n",
    "1& 2& 3\\\\\n",
    "4& 2& 6\\\\\n",
    "7& 3& 8\\\\\n",
    "\\end{bmatrix}=\n",
    "\\begin{bmatrix}\n",
    "2& 4& 6\\\\\n",
    "8& 4& 12\\\\\n",
    "14& 6& 16\\\\\n",
    "\\end{bmatrix}$ \n",
    "\n",
    "A * v = $\\begin{bmatrix}\n",
    "1& 2& 3\\\\\n",
    "4& 2& 6\\\\\n",
    "7& 3& 8\\\\\n",
    "\\end{bmatrix} * \n",
    "\\begin{bmatrix}\n",
    "3\\\\ 1\\\\ 2\\\\\n",
    "\\end{bmatrix}=\n",
    "\\begin{bmatrix}\n",
    "3+2+6\\\\ 12+2+12\\\\ 21+3+16\\\\\n",
    "\\end{bmatrix}=\n",
    "\\begin{bmatrix}\n",
    "11\\\\ 26\\\\ 40\\\\\n",
    "\\end{bmatrix}$\n",
    "\n",
    "\n",
    "A*A = $\\begin{bmatrix}\n",
    "1& 2& 3\\\\\n",
    "4& 2& 6\\\\\n",
    "7& 3& 8\\\\\n",
    "\\end{bmatrix} * \\begin{bmatrix}\n",
    "1& 2& 3\\\\\n",
    "4& 2& 6\\\\\n",
    "7& 3& 8\\\\\n",
    "\\end{bmatrix} =\n",
    "\\begin{bmatrix}\n",
    "1+8+21&  2+4+9&  3+12+24\\\\\n",
    "4+8+42& 8+4+18&  12+12+48\\\\\n",
    "7+12+56&  14+6+24& 21+18+64\\\\\n",
    "\\end{bmatrix}=\n",
    "\\begin{bmatrix}\n",
    "30&  15&  39\\\\\n",
    "54& 30&  72\\\\\n",
    "75&  44& 103\\\\\n",
    "\\end{bmatrix}$ <br><br>\n",
    "so the results are verified to be correct."
   ]
  },
  {
   "cell_type": "markdown",
   "metadata": {
    "pycharm": {
     "name": "#%% md\n"
    }
   },
   "source": [
    "### Exercise 2: Sampling from a Gaussian\n",
    "Sample 1000 samples from a Gaussian distribution with mean $\\mu = -2$ and standard deviation $\\sigma=0.5$. <br>\n",
    "\n",
    "We also visualize the samples. For this we use matplotlib, a python package for plotting"
   ]
  },
  {
   "cell_type": "code",
   "execution_count": 7,
   "metadata": {},
   "outputs": [
    {
     "data": {
      "image/png": "[encoded data removed]",
      "text/plain": [
       "<Figure size 432x288 with 1 Axes>"
      ]
     },
     "metadata": {
      "needs_background": "light"
     },
     "output_type": "display_data"
    }
   ],
   "source": [
    "# for jupyter notebooks you need the following line of jupyter magic command (that's literally the name) \n",
    "# to display matplotlib figures inside the notebook. Make sure it comes before the actual import!\n",
    "%matplotlib inline\n",
    "#actually import matplotlib \n",
    "import matplotlib.pyplot as plt\n",
    "from random import gauss\n",
    "# In Machine Learning, it is often necessary to sample from a probability distribution.\n",
    "# To sample from a Gaussian distribution (https://en.wikipedia.org/wiki/Normal_distribution):\n",
    "\n",
    "mu, sigma = -2, 0.5 # mean and standard deviation\n",
    "samples = [gauss(mu, sigma) for _ in range(10000000)]\n",
    "# plot the histogram of the samples \n",
    "count, bins, ignored = plt.hist(samples, 40, density=True)\n",
    "\n",
    "# plot the density function \n",
    "plt.plot(bins, 1/(sigma * np.sqrt(2 * np.pi)) * np.exp( - (bins - mu)**2 / (2 * sigma**2) ),  linewidth=2, color='r')\n",
    "\n",
    "# show the plot\n",
    "plt.show()\n"
   ]
  },
  {
   "cell_type": "markdown",
   "metadata": {
    "pycharm": {
     "name": "#%% md\n"
    }
   },
   "source": [
    "### Exercise 3: Solving a Linear Equation\n",
    "\n",
    "You are given the linear equation <br>\n",
    "\\begin{align*}\n",
    "Ax=v.\n",
    "\\end{align*} <br>\n",
    "We want to find the vector x. Assume that the matrix A and the vector v are given as in Exercise 1.1.\n",
    "Find the solution for x. Hint: Use the function 'linalg.solve' from numpy - this should always be preferred over direct\n",
    "matrix inversion."
   ]
  },
  {
   "cell_type": "code",
   "execution_count": 8,
   "metadata": {
    "pycharm": {
     "name": "#%%\n"
    }
   },
   "outputs": [
    {
     "name": "stdout",
     "output_type": "stream",
     "text": [
      "Solution: x = [-0.08333333  2.41666667 -0.58333333]\n",
      "Test: A@x = [3. 1. 2.] is the same as v = [3 1 2]\n"
     ]
    }
   ],
   "source": [
    "# To solve the linear equation system A x = v, you may use the np.linalg.solve function. In other words we can\n",
    "# use np.linalg.solve for inverting any matrix which does not stand alone. \n",
    "\n",
    "x = np.linalg.solve(A, v) #solve for x here\n",
    "\n",
    "print(\"Solution: x =\", x)\n",
    "print(f\"Test: A@x = {A@x} is the same as v = {v}\")"
   ]
  },
  {
   "cell_type": "markdown",
   "metadata": {
    "pycharm": {
     "name": "#%% md\n"
    }
   },
   "source": [
    "## Closing Remarks\n",
    "\n",
    "NumPy provides easy and efficient ways to deal with vectors, matrices and tensors. Linear algebra functionality like\n",
    "the function introduced above, together with more advanced techniques such as broadcasting\n",
    "(https://numpy.org/doc/stable/user/basics.broadcasting.html ), are the key to efficient programming in Python.\n",
    "If you want to do any practical Machine Learning you need to familiarize yourself with those techniques.\n",
    "We will use and introduce more of this in the following exercises but also expect you to use it for your submission.\n",
    "So use them whenever possible and, most importantly, avoid unnecessary for loops.\n",
    "\n"
   ]
  }
 ],
 "metadata": {
  "kernelspec": {
   "display_name": "Python 3.7.3 64-bit ('strohwitwer': virtualenv)",
   "language": "python",
   "name": "python37364bitstrohwitwervirtualenv404ffc7c121f4b5692b068292122e3e8"
  },
  "language_info": {
   "codemirror_mode": {
    "name": "ipython",
    "version": 3
   },
   "file_extension": ".py",
   "mimetype": "text/x-python",
   "name": "python",
   "nbconvert_exporter": "python",
   "pygments_lexer": "ipython3",
   "version": "3.8.3"
  }
 },
 "nbformat": 4,
 "nbformat_minor": 4
}
