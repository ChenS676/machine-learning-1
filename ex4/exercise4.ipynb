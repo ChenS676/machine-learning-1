{
 "cells": [
  {
   "cell_type": "markdown",
   "metadata": {},
   "source": [
    "# EXERCISE 4 - ML - Grundverfahren"
   ]
  },
  {
   "cell_type": "markdown",
   "metadata": {},
   "source": [
    "**Package notes:**\n",
    "We will use different packages in this exersice:\n",
    "1. Scipy:\n",
    "    We will use scipy for optimizing the hinge loss. Scipy provides a numerical optimization package with various solvers such as L-BFGS-B or SLSQP. \n",
    "2. Sklearn:\n",
    "    Sklearn is a package providing different machine learning algorithms and tools. We will not use it for machine learning algorithms here but for loading the handwritten image data set, which we will use for applying probabilistic PCA.\n",
    "3. CVXPY:\n",
    "    CVXPY can be used to solve convex optimization problems such as a quadratic program. We will use the solver for optimizing for the dual problem of the SVMs.\n",
    "    \n",
    "You can install all those packages using pip (or conda or whatever)."
   ]
  },
  {
   "cell_type": "code",
   "execution_count": 1,
   "metadata": {},
   "outputs": [],
   "source": [
    "%matplotlib inline\n",
    "\n",
    "import numpy as np\n",
    "import matplotlib.pyplot as plt\n",
    "from matplotlib import colors\n",
    "from typing import Union, Optional"
   ]
  },
  {
   "cell_type": "markdown",
   "metadata": {},
   "source": [
    "## 1.) Probabilistic PCA with Expectation Maximization (7 Points)\n",
    "In this exercise we will implement probabilistic PCA as discussed in the lecture. We will apply it on a toy task and the handwritten digit data set. We will also generate our own images. "
   ]
  },
  {
   "cell_type": "markdown",
   "metadata": {},
   "source": [
    "We start by defining some utilities for plotting. You don't need to do anything here."
   ]
  },
  {
   "cell_type": "code",
   "execution_count": 2,
   "metadata": {},
   "outputs": [],
   "source": [
    "def plot_data(X):\n",
    "    plt.scatter(X[:, 0], X[:, 1], color='b')\n",
    "    plt.xlabel('x')\n",
    "    plt.ylabel('y')\n",
    "    plt.xlim(0, 7)\n",
    "    plt.ylim(0, 7)\n",
    "\n",
    "def draw_2d_gaussian(mu: np.ndarray, sigma: np.ndarray, plt_std: float = 2, *args, **kwargs) -> None:\n",
    "    (largest_eigval, smallest_eigval), eigvec = np.linalg.eig(sigma)\n",
    "    phi = -np.arctan2(eigvec[0, 1], eigvec[0, 0])\n",
    "\n",
    "    plt.scatter(mu[0:1], mu[1:2], marker=\"x\", *args, **kwargs)\n",
    "\n",
    "    a = plt_std * np.sqrt(largest_eigval)\n",
    "    b = plt_std * np.sqrt(smallest_eigval)\n",
    "\n",
    "    ellipse_x_r = a * np.cos(np.linspace(0, 2 * np.pi, num=200))\n",
    "    ellipse_y_r = b * np.sin(np.linspace(0, 2 * np.pi, num=200))\n",
    "\n",
    "    R = np.array([[np.cos(phi), np.sin(phi)], [-np.sin(phi), np.cos(phi)]])\n",
    "    r_ellipse = np.array([ellipse_x_r, ellipse_y_r]).T @ R\n",
    "    plt.plot(mu[0] + r_ellipse[:, 0], mu[1] + r_ellipse[:, 1], *args, **kwargs)\n",
    "\n",
    "\n",
    "def plot_ev(mu, eig_vec_1, eig_vec_2):\n",
    "    arrow_1_end = mu + eig_vec_1\n",
    "    arrow_1_x = [mu[0], arrow_1_end[0]]\n",
    "    arrow_1_y = [mu[1], arrow_1_end[1]]\n",
    "\n",
    "    arrow_2_end = mu + eig_vec_2\n",
    "    arrow_2_x = [mu[0], arrow_2_end[0]]\n",
    "    arrow_2_y = [mu[1], arrow_2_end[1]]\n",
    "\n",
    "    plt.plot(mu[0], mu[1], 'xr')\n",
    "    plt.plot((mu + eig_vec_1)[0], (mu + eig_vec_1)[1], 'xr')\n",
    "    plt.plot(arrow_1_x, arrow_1_y, 'red')\n",
    "    plt.plot(arrow_2_x, arrow_2_y, 'red')"
   ]
  },
  {
   "cell_type": "markdown",
   "metadata": {},
   "source": [
    "### Exercise 1.1) E-Step in Probabilistic PCA (3 Points)\n",
    "We will implement the E-step in this exercise. Remember the equations in the E-Step as:\n",
    "\\begin{align*}\n",
    "    \\boldsymbol{\\mu}_{\\boldsymbol{z}|\\boldsymbol{x}_i} = (\\boldsymbol{W^TW}+\\sigma^2\\boldsymbol{I})^{-1}\\boldsymbol{W}^T(\\boldsymbol{x}_i-\\boldsymbol{\\mu}) \\\\\n",
    "     \\boldsymbol{\\Sigma_{\\boldsymbol{z}|\\boldsymbol{x}_i}}=\\sigma^2(\\boldsymbol{W^TW}+\\sigma^2\\boldsymbol{I})^{-1},\n",
    "\\end{align*}\n",
    "where $\\boldsymbol{x}_i$ is one sample of the data, $\\boldsymbol{W}$ is the transformation matrix, $\\sigma^2$ is the variance and $\\boldsymbol{\\mu}$ is the mean of the likelihood model. <br><br>\n",
    "Please note that we need to subtract the likelihood mean from the data. This subtraction previously was missing in the slides and we uploaded a corrected version. In the video recording you will also face that it is missing. However, the formula stated here is the one you should use.<br><br>\n",
    "Implement the E-step of the EM-Algorithm for dimensionality reduction, according to the equations stated. The dimensions of the vectors/matrices are stated in the code snippet. Make sure that you have the same dimensionality\n",
    "as stated in the comments. <br>\n",
    "The hints in the comments might be useful."
   ]
  },
  {
   "cell_type": "code",
   "execution_count": 3,
   "metadata": {},
   "outputs": [],
   "source": [
    "def e_step(W, mu, X, sigma_quad):\n",
    "    \"\"\"\n",
    "    Computes/Samples the Latent vectors in matrix Z given transformation matrix W and data X.\n",
    "    :param W: Transformation matrix W (shape: [DxM], where D is data dimension, M is latent Dimension)\n",
    "    :param X: Data matrix containing the data (shape: [NxD])\n",
    "    :param sigma_quad: sigma^2, the variance of the likelihood (already in quadratic form) (shape: float)\n",
    "    :return: returns mu_z, the mean of the posterior for each sample x (shape: [NxM])\n",
    "             returns z_samples, the latent variables (shape: [MxN])\n",
    "             returns var_z, the covariance of the posterior (shape: [MxM])\n",
    "    \"\"\"\n",
    "    # TODO: Implement the e-step for PPCA\n",
    "    # Hint: np.linalg.solve is useful. You could also use np.linalg.inv. But np.linalg.solve is in general prefered\n",
    "\n",
    "    N, D = X.shape\n",
    "    D, M = W.shape\n",
    "    # # compute mean of z -> NxM\n",
    "    mu_z = np.array([np.linalg.solve(W.T @ W + sigma_quad * np.eye(M, M), W.T @ i) for i in X-mu])\n",
    "    # # compute covariance of z -> MxM\n",
    "    var_z = np.linalg.solve(sigma_quad* (W.T @ W + sigma_quad*np.eye(M, M)), np.ones((M, M)))\n",
    "    # # sample z for each mean (mu_z is a Matrix (NxM), containg a mean for each data x_i)\n",
    "    try:\n",
    "        z_samples = np.array(\n",
    "            [np.random.multivariate_normal(mu_z[i, :], var_z) for i in range(N)]).T\n",
    "    except:\n",
    "        z_samples = np.array([np.random.multivariate_normal(mu_z[i, :], var_z+1e-4*np.random.rand(M, M)) for i in range(N)]).T\n",
    "    return mu_z, z_samples, var_z"
   ]
  },
  {
   "cell_type": "markdown",
   "metadata": {},
   "source": [
    "### Exercise 1.2) M-Step in Probabilistic PCA (4Points)\n",
    "We will implement the E-step in this exercise. The following equations can also be looked up in the slides\n",
    "\\begin{align*}\n",
    "    \\left(\n",
    "    \\begin{array}{c}\n",
    "    \\boldsymbol{\\mu}\\\\\n",
    "    \\boldsymbol{W}\n",
    "    \\end{array}\n",
    "    \\right) = (\\boldsymbol{Z^TZ})^{-1}\\boldsymbol{Z}^T\\boldsymbol{X},\n",
    "\\end{align*}\n",
    "where \n",
    "\\begin{align*}\n",
    "\\boldsymbol{X}=\n",
    "    \\left(\n",
    "    \\begin{array}{c}\n",
    "    \\boldsymbol{x}_1^T\\\\\n",
    "    \\vdots\\\\\n",
    "    \\boldsymbol{x}_n^T\n",
    "    \\end{array}\n",
    "    \\right),\n",
    "\\boldsymbol{Z}=\n",
    "    \\left(\n",
    "    \\begin{array}{c}\n",
    "    1, \\boldsymbol{z}_1^T\\\\\n",
    "    \\vdots\\\\\n",
    "    1, \\boldsymbol{z}_n^T\n",
    "    \\end{array}\n",
    "    \\right).\n",
    "\\end{align*}\n",
    "$\\boldsymbol{Z}$ is the matrix containing the bias and all the latent variable samples $\\boldsymbol{z}_i$ and $\\boldsymbol{X}$ is the matrix containing all data points $\\boldsymbol{x}$. \n",
    "We further need to implement the variance:\n",
    "\\begin{align*}\n",
    "    \\sigma^2 = \\frac{1}{ND}\\sum_{i=1}^{N}\\sum_{k=1}^{D}(y_{ik}- x_{ik})^2,\n",
    "\\end{align*}\n",
    "where $\\boldsymbol{y}_i=\\boldsymbol{W}\\boldsymbol{z}_i + \\boldsymbol{\\mu}$ and N is the number of data points and D is the dimension of the data $\\boldsymbol{x}$. \n",
    "<br><br>\n",
    "Implement the M-step of the EM-Algorithm for dimensionality reduction, according to the equations stated. The dimensions of the vectors/matrices are stated in the code snippet. Make sure that you have the same dimensionality\n",
    "as stated in the comments. <br>\n",
    "The hints in the comments might be useful."
   ]
  },
  {
   "cell_type": "code",
   "execution_count": 4,
   "metadata": {},
   "outputs": [],
   "source": [
    "def m_step(z_samples, X):\n",
    "    \"\"\"\n",
    "    Computes the variance and the transformation matrix W given the latent vectors in z_samples and the data\n",
    "    in matrix X.\n",
    "    :param Z: The latent variable vectors stored in z_samples (shape: [NxM])\n",
    "    :param X: Data matrix containg the data (shape: [NxD])\n",
    "    :return: returns the variance sigma_quad and the transformation matrix W (shape: [DxM])\n",
    "    \"\"\"\n",
    "    #############################################################################################################\n",
    "    # TODO: Implement the m-step for PPCA\n",
    "    # Hint: np.linalg.solve is useful. You could also use np.linalg.inv. But np.linalg.solve is in general prefered\n",
    "\n",
    "    # # create feature matrix Z\n",
    "    M, N = z_samples.shape\n",
    "    N, D = X.shape\n",
    "    Z = np.concatenate((np.ones((N, 1)), z_samples.T), axis=1)\n",
    "    # # Calculate W_tilde (Dx(M+1)) containg the mean of the likelihood and the projection matrix W\n",
    "    R, R = Z.shape\n",
    "    try:\n",
    "        W_tilde = np.linalg.solve(Z.T@Z, Z.T @ X)\n",
    "    except:\n",
    "        print(\"W_tilde is a singulalr matrix, a flexible solution will be performed.\")\n",
    "        W_tilde = np.linalg.solve(Z.T @ Z + 10e-4 * np.random.rand(R, R), Z.T @ X)\n",
    "    mu = W_tilde[0]\n",
    "    W = W_tilde[1:].T\n",
    "    # # Perform the predictions y in matrix Y\n",
    "    Y = np.array([W@z_samples[:, i]+mu for i in range(N)])\n",
    "    # # calculate variance sigma_quad scalar\n",
    "    sigma_quad = np.linalg.norm(Y - X, 2) / (Y-X).size\n",
    "    return sigma_quad, mu, W"
   ]
  },
  {
   "cell_type": "markdown",
   "metadata": {},
   "source": [
    "This is the EM-loop, where the E-step and the M-step alternates. You do not need to implement or change the function here."
   ]
  },
  {
   "cell_type": "code",
   "execution_count": 5,
   "metadata": {},
   "outputs": [],
   "source": [
    "def do_ppca(X: np.ndarray, n_principle_comps: int, num_iters: int = 50):\n",
    "    np.random.seed(0)\n",
    "    W = np.random.normal(size=(X.shape[1], n_principle_comps))\n",
    "    mu_X = np.mean(X, axis=0)\n",
    "    mu = mu_X.copy()\n",
    "    sigma_quad = 1\n",
    "    for i in range(num_iters):\n",
    "        mu_z, z_samples, var_z = e_step(W, mu, X, sigma_quad)\n",
    "        sigma_quad, mu, W = m_step(z_samples, X)\n",
    "    return W, z_samples, var_z, sigma_quad, mu"
   ]
  },
  {
   "cell_type": "markdown",
   "metadata": {},
   "source": [
    "#### 2D Toy Task from Lecture Notebook\n",
    "We will first apply pPCA on the toy task, which we also had in the lecture notebook. Here is the data:"
   ]
  },
  {
   "cell_type": "code",
   "execution_count": 6,
   "metadata": {},
   "outputs": [
    {
     "data": {
      "image/png": "[encoded data removed]",
      "text/plain": [
       "<Figure size 432x288 with 1 Axes>"
      ]
     },
     "metadata": {
      "needs_background": "light"
     },
     "output_type": "display_data"
    }
   ],
   "source": [
    "np.random.seed(0)\n",
    "\n",
    "x = np.random.uniform(1,5, size=(120, 1))\n",
    "y = x + 1 + np.random.normal(0, 0.7, size=x.shape)\n",
    "\n",
    "X = np.concatenate((x, y), axis = 1)\n",
    "plot_data(X)"
   ]
  },
  {
   "cell_type": "markdown",
   "metadata": {},
   "source": [
    "Let's now perform the algorithm on the data. You do not need to change anything. "
   ]
  },
  {
   "cell_type": "code",
   "execution_count": 7,
   "metadata": {},
   "outputs": [
    {
     "data": {
      "text/plain": [
       "[<matplotlib.lines.Line2D at 0x7f62d3218190>]"
      ]
     },
     "execution_count": 7,
     "metadata": {},
     "output_type": "execute_result"
    },
    {
     "data": {
      "image/png": "[encoded data removed]",
      "text/plain": [
       "<Figure size 432x432 with 1 Axes>"
      ]
     },
     "metadata": {
      "needs_background": "light"
     },
     "output_type": "display_data"
    }
   ],
   "source": [
    "plt.figure(figsize=(6, 6))\n",
    "plot_data(X)\n",
    "\n",
    "W, z_samples, var_z, sigma_quad, mu = do_ppca(X, n_principle_comps=1)\n",
    "\n",
    "x_tilde = np.dot(W, z_samples).T + mu  \n",
    "# x_tilde = z_samples.T @ W.T + mu # reproject to high-dim space\n",
    "\n",
    "C = np.dot(W, W.T) + sigma_quad*np.eye(W.shape[0])      # covariance of p(x) (reconstructed)\n",
    "\n",
    "v, U = np.linalg.eig(np.cov(X.T))\n",
    "mu_X = np.mean(X, axis=0)\n",
    "plot_ev(mu_X, 2*np.sqrt(v[0])*U[:, 0], 2*np.sqrt(v[1])*U[:, 1])\n",
    "\n",
    "draw_2d_gaussian(mu_X, C)\n",
    "\n",
    "plt.plot(x_tilde[:, 0], x_tilde[:, 1], 'o', color='orange', alpha=0.2)   # reprojected data points"
   ]
  },
  {
   "cell_type": "markdown",
   "metadata": {},
   "source": [
    "#### Hand-Written digits from Lecture Notebook\n",
    "Next, we apply pPCA on the handwritten digits data set. We will consider the digit 3 only. Here is how the data looks like "
   ]
  },
  {
   "cell_type": "code",
   "execution_count": 8,
   "metadata": {},
   "outputs": [
    {
     "data": {
      "text/plain": [
       "<Figure size 432x288 with 0 Axes>"
      ]
     },
     "metadata": {},
     "output_type": "display_data"
    },
    {
     "data": {
      "image/png": "[encoded data removed]",
      "text/plain": [
       "<Figure size 1440x720 with 100 Axes>"
      ]
     },
     "metadata": {
      "needs_background": "light"
     },
     "output_type": "display_data"
    }
   ],
   "source": [
    "from sklearn.datasets import load_digits\n",
    "\n",
    "digits = load_digits()\n",
    "targets = digits.target\n",
    "\n",
    "# get the images for digit 3 only\n",
    "digits_3_indx = np.where(targets == 3)[0]\n",
    "digit_3_data = digits.data[digits_3_indx]       # shape: (183, 64)  -> (8 x 8)\n",
    "digit_3_targets = digits.target[digits_3_indx]       # only needed to verify that we load digit 3\n",
    "\n",
    "mu_X_im = np.mean(digit_3_data, axis=0)\n",
    "\n",
    "#Plot the original digit 3 images\n",
    "plt.figure()\n",
    "fig, axes = plt.subplots(10, 10, figsize=(20, 10))\n",
    "for i, ax in enumerate(axes.flat):\n",
    "     ax.imshow(digit_3_data[i].reshape(8, 8))"
   ]
  },
  {
   "cell_type": "code",
   "execution_count": 9,
   "metadata": {},
   "outputs": [
    {
     "name": "stderr",
     "output_type": "stream",
     "text": [
      "<ipython-input-3-b06ceac5fb99>:23: RuntimeWarning: covariance is not positive-semidefinite.\n",
      "  [np.random.multivariate_normal(mu_z[i, :], var_z) for i in range(N)]).T\n"
     ]
    },
    {
     "data": {
      "image/png": "[encoded data removed]",
      "text/plain": [
       "<Figure size 432x288 with 2 Axes>"
      ]
     },
     "metadata": {
      "needs_background": "light"
     },
     "output_type": "display_data"
    }
   ],
   "source": [
    "# let's perform ppca on the data\n",
    "n_principle_comps = 10\n",
    "W_im, z_samples_im, var_z_im, sigma_quad_im, mu_im = do_ppca(digit_3_data, n_principle_comps=n_principle_comps)\n",
    "x_tilde_im = np.dot(W_im, z_samples_im).T + mu_im\n",
    "\n",
    "considered_im = digit_3_data[15]\n",
    "considered_im_x_tilde = x_tilde_im[15, :]\n",
    "\n",
    "plt.figure()\n",
    "plt.subplot(121)\n",
    "plt.title('Original')\n",
    "plt.imshow(considered_im.reshape(8, 8))\n",
    "\n",
    "plt.subplot(122)\n",
    "plt.title('Reprojection')\n",
    "plt.imshow(considered_im_x_tilde.reshape(8,8))\n",
    "plt.show()"
   ]
  },
  {
   "cell_type": "markdown",
   "metadata": {},
   "source": [
    "Although the reprojected data does not look same, you should definitely see the similarity to the original image."
   ]
  },
  {
   "cell_type": "markdown",
   "metadata": {},
   "source": [
    "### Random Image generation\n",
    "One advantage of pPCA is that we can generate random images. The generative process, as described in the lecture is implemented here."
   ]
  },
  {
   "cell_type": "code",
   "execution_count": 10,
   "metadata": {},
   "outputs": [
    {
     "data": {
      "text/plain": [
       "<Figure size 432x288 with 0 Axes>"
      ]
     },
     "metadata": {},
     "output_type": "display_data"
    },
    {
     "data": {
      "image/png": "[encoded data removed]",
      "text/plain": [
       "<Figure size 1440x720 with 5 Axes>"
      ]
     },
     "metadata": {
      "needs_background": "light"
     },
     "output_type": "display_data"
    }
   ],
   "source": [
    "# Sample some vectors z\n",
    "z = np.random.normal(size=(5, n_principle_comps))\n",
    "\n",
    "# Project back to D-dim space\n",
    "y = np.dot(W_im, z.T).T + mu_im\n",
    "\n",
    "# Sample noise\n",
    "eps = np.random.normal(scale=sigma_quad, size=y.shape)\n",
    "# Get image\n",
    "x = y + eps\n",
    "\n",
    "plt.figure('Sampled Image')\n",
    "fig, axes = plt.subplots(1, 5, figsize=(20, 10))\n",
    "for i, ax in enumerate(axes.flat):\n",
    "     ax.imshow(x[i].reshape(8, 8))"
   ]
  },
  {
   "cell_type": "markdown",
   "metadata": {},
   "source": [
    "## 2.) Feature-Based Support Vector Machine (Hinge Loss) (5 Points)\n",
    "In this exercise we will train a feature-based SVM on the two moons dataset using the hinge loss. We start by loading and visualizing the data. We will use the l-bfgs-b algorithm, provided by scipy.optimize for the optimization. All you need to know about this optimizer is that it is gradient based. Otherwise you can treat it as a black-box. Yet, it's also worth a closer look if you are interested. "
   ]
  },
  {
   "cell_type": "code",
   "execution_count": 11,
   "metadata": {},
   "outputs": [
    {
     "data": {
      "text/plain": [
       "<matplotlib.legend.Legend at 0x7f62b2f8a160>"
      ]
     },
     "execution_count": 11,
     "metadata": {},
     "output_type": "execute_result"
    },
    {
     "data": {
      "image/png": "[encoded data removed]",
      "text/plain": [
       "<Figure size 432x288 with 1 Axes>"
      ]
     },
     "metadata": {
      "needs_background": "light"
     },
     "output_type": "display_data"
    },
    {
     "data": {
      "image/png": "[encoded data removed]",
      "text/plain": [
       "<Figure size 432x288 with 1 Axes>"
      ]
     },
     "metadata": {
      "needs_background": "light"
     },
     "output_type": "display_data"
    }
   ],
   "source": [
    "import scipy.optimize as opt\n",
    "\n",
    "train_data = dict(np.load(\"two_moons.npz\", allow_pickle=True))\n",
    "train_samples = train_data[\"samples\"]\n",
    "train_labels = train_data[\"labels\"]\n",
    "# we need to change the labels for class 0 to -1 to account for the different labels used by an SVM \n",
    "train_labels[train_labels == 0] = -1 \n",
    "\n",
    "test_data = dict(np.load(\"two_moons_test.npz\", allow_pickle=True))\n",
    "test_samples = test_data[\"samples\"]\n",
    "test_labels = test_data[\"labels\"]\n",
    "# we need to change the labels for class 0 to -1 to account for the different labels used by an SVM \n",
    "test_labels[test_labels == 0] = -1\n",
    "\n",
    "plt.figure()\n",
    "plt.title(\"Train Data\")\n",
    "plt.scatter(x=train_samples[train_labels == -1, 0], y=train_samples[train_labels == -1, 1], label=\"c=-1\", c=\"blue\")\n",
    "plt.scatter(x=train_samples[train_labels == 1, 0], y=train_samples[train_labels == 1, 1], label=\"c=1\", c=\"orange\")\n",
    "plt.legend()\n",
    "\n",
    "plt.figure()\n",
    "plt.title(\"Test Data\")\n",
    "plt.scatter(x=test_samples[test_labels == -1, 0], y=test_samples[test_labels == -1, 1], label=\"c=-1\", c=\"blue\")\n",
    "plt.scatter(x=test_samples[test_labels == 1, 0], y=test_samples[test_labels == 1, 1], label=\"c=1\", c=\"orange\")\n",
    "plt.legend()"
   ]
  },
  {
   "cell_type": "markdown",
   "metadata": {},
   "source": [
    "#### Feature Function\n",
    "From the logistic classification exercise earlier we already know that cubic features are a good choice for the two moons, so we will reuse them here."
   ]
  },
  {
   "cell_type": "code",
   "execution_count": 12,
   "metadata": {},
   "outputs": [],
   "source": [
    "def cubic_feature_fn(samples: np.ndarray) -> np.ndarray:\n",
    "    \"\"\"\n",
    "    :param x: Batch of 2D data vectors [x, y] [N x dim]\n",
    "    :return cubic features: [x**3, y**3, x**2 * y, x * y**2, x**2, y**2, x*y, x, y, 1]\n",
    "    \"\"\"\n",
    "    x = samples[..., 0]\n",
    "    y = samples[..., 1]\n",
    "    return np.stack([x**3, y**3, x**2 * y, x * y**2, x**2, y**2, x*y, x, y, np.ones(x.shape[0])], axis=-1)"
   ]
  },
  {
   "cell_type": "markdown",
   "metadata": {},
   "source": [
    "### Exercise 2.1) Hinge Loss Objective (2 Points) \n",
    "\n",
    "We will implement the hinge loss objective in this exercise. Its given by \n",
    " $$\\mathcal{L}_{\\boldsymbol{X}, \\boldsymbol{y}}(w) = \\parallel \\boldsymbol{w} \\parallel^2 + C \\sum_i^N  \\max \\left( 0, 1 - y_i \\boldsymbol{w}^T \\phi(\\boldsymbol{x}_i) \\right),$$\n",
    " where $\\boldsymbol{w}$ are our model parameters, $\\phi(\\boldsymbol{x})$ are our features (here cubic) and the $y_i \\in \\lbrace{-1, 1\\rbrace}$ are the class labels. \n",
    " \n",
    " Fill in the code snippets below. This function implements the hinge loss."
   ]
  },
  {
   "cell_type": "code",
   "execution_count": 13,
   "metadata": {},
   "outputs": [],
   "source": [
    "def objective_svm(weights: np.ndarray, features: np.ndarray, labels: np.ndarray, slack_regularizer: float) -> float:\n",
    "    \"\"\"\n",
    "    objective for svm training with hinge loss\n",
    "    :param weights: current weights to evaluate (shape: [feature_dim])\n",
    "    :param features: features of training samples (shape:[N x feature_dim])\n",
    "    :param labels: class labels corresponding to train samples (shape: [N])\n",
    "    :param slack_regularizer: Factor to weight the violation of margin with (C in slides)\n",
    "    :returns svm (hinge) objective (scalar)\n",
    "    \"\"\"\n",
    "    ### TODO ###############################\n",
    "    target = 1- labels * (features @ weights)\n",
    "    target[target<0] = 0\n",
    "    loss = np.linalg.norm(weights, 2)**2 + slack_regularizer*np.sum(target)\n",
    "    return loss"
   ]
  },
  {
   "cell_type": "markdown",
   "metadata": {},
   "source": [
    "### Exercise 2.2) Hinge Loss Gradient (3 Points)\n",
    "Derive and implement the gradient for the hinge loss objective stated above. For all non-differentiable points in the loss courves you can use any valid subgradient. \n",
    "\n",
    "**NOTE**: The derivation is explicitly part of the grading, so state it in the solution file, not just implement it. \n"
   ]
  },
  {
   "cell_type": "markdown",
   "metadata": {},
   "source": [
    "\n"
   ]
  },
  {
   "cell_type": "code",
   "execution_count": 14,
   "metadata": {},
   "outputs": [],
   "source": [
    "def d_objective_svm(weights: np.ndarray, features: np.ndarray, labels: np.ndarray,\n",
    "                    slack_regularizer: float) -> np.ndarray:\n",
    "    \"\"\"\n",
    "    gradient of objective for svm training with hinge loss\n",
    "    :param weights: current weights to evaluate (shape: [feature_dim])\n",
    "    :param features: features of training samples (shape: [N x feature_dim])\n",
    "    :param labels: class labels corresponding to train samples (shape: [N])\n",
    "    :param slack_regularizer: Factor to weight the violation of margin with (C in slides)\n",
    "    :returns gradient of svm objective (shape: [feature_dim])\n",
    "    \"\"\"\n",
    "    ### TODO ###############################\n",
    "    N, feature_dim = features.shape\n",
    "    index = 1 - labels * (features @ weights)\n",
    "    target = np.array([-1 *features[i,:]*l for i, l in enumerate(labels)])\n",
    "    grad = 2 *weights + slack_regularizer*np.sum(target[index > 0, :], axis=0)\n",
    "    return grad"
   ]
  },
  {
   "cell_type": "markdown",
   "metadata": {},
   "source": [
    "### Train and Evaluate\n",
    "Finally, we can tie everything together and get our maximum margin classifier. Here we are using the L-BFGS-B optimizer provided by Scipy. With $C=1000$ you should end up at a train accuracy of 1 and a test accuracy of 0.99, but feel free to play arround with $C$. "
   ]
  },
  {
   "cell_type": "code",
   "execution_count": 15,
   "metadata": {},
   "outputs": [
    {
     "name": "stdout",
     "output_type": "stream",
     "text": [
      "      fun: 139.02424107489256\n",
      " hess_inv: <10x10 LbfgsInvHessProduct with dtype=float64>\n",
      "      jac: array([-6147.43549556,   -39.22722175, -1080.79262131,  -177.91260812,\n",
      "       -3373.98836762,  -100.9020082 ,  -584.9930667 , -1836.78350989,\n",
      "        -322.34982353,  -994.67614403])\n",
      "  message: 'CONVERGENCE: REL_REDUCTION_OF_F_<=_FACTR*EPSMCH'\n",
      "     nfev: 343\n",
      "      nit: 58\n",
      "     njev: 343\n",
      "   status: 0\n",
      "  success: True\n",
      "        x: array([ 4.94342261, -3.33692497, -4.06898605,  4.47619247, -7.2959551 ,\n",
      "        0.52518011,  0.12029172, -1.95893452, -1.52500697,  2.66192799])\n",
      "Train Accuracy:  1.0\n",
      "Test Accuracy:  0.98\n"
     ]
    },
    {
     "data": {
      "image/png": "[encoded data removed]",
      "text/plain": [
       "<Figure size 432x288 with 2 Axes>"
      ]
     },
     "metadata": {
      "needs_background": "light"
     },
     "output_type": "display_data"
    }
   ],
   "source": [
    "feature_fn = cubic_feature_fn\n",
    "C = 1000.0\n",
    "\n",
    "# optimization\n",
    "\n",
    "train_features = feature_fn(train_samples)\n",
    "\n",
    "# For detail see: https://docs.scipy.org/doc/scipy/reference/optimize.minimize-lbfgsb.html\n",
    "res = opt.minimize(\n",
    "    # pass objective\n",
    "    fun=lambda w: objective_svm(w, train_features, train_labels, C),\n",
    "    # pass initial point              \n",
    "    x0=np.ones(train_features.shape[-1]),\n",
    "    # pass function to evaluate gradient (in scipy.opt \"jac\" for jacobian)\n",
    "    jac=lambda w: d_objective_svm(w, train_features, train_labels, C),\n",
    "    # specify method to use\n",
    "    method=\"l-bfgs-b\")\n",
    "\n",
    "print(res)\n",
    "w_svm = res.x\n",
    "\n",
    "# evaluation \n",
    "test_predictions = feature_fn(test_samples) @ w_svm\n",
    "train_predictions = feature_fn(train_samples) @ w_svm\n",
    "\n",
    "predicted_train_labels = np.ones(train_predictions.shape)\n",
    "predicted_train_labels[train_predictions < 0] = -1\n",
    "print(\"Train Accuracy: \", np.count_nonzero(predicted_train_labels == train_labels) / len(train_labels))\n",
    "\n",
    "predicted_test_labels = np.ones(test_predictions.shape)\n",
    "predicted_test_labels[test_predictions < 0] = -1\n",
    "print(\"Test Accuracy: \", np.count_nonzero(predicted_test_labels == test_labels) / len(test_labels))\n",
    "\n",
    "# plot train, contour, decision boundary and margins \n",
    "plt.figure()\n",
    "plt.title(\"Max Margin Solution\")\n",
    "plt_range = np.arange(-1.5, 1.5, 0.01)\n",
    "plt_grid = np.stack(np.meshgrid(plt_range, plt_range), axis=-1)\n",
    "flat_plt_grid = np.reshape(plt_grid, [-1, 2])\n",
    "plt_grid_shape = plt_grid.shape[:2]\n",
    "\n",
    "pred_grid = np.reshape(feature_fn(flat_plt_grid) @ w_svm, plt_grid_shape)\n",
    "\n",
    "#plt.contour(plt_grid[..., 0], plt_grid[..., 1], pred_grid, levels=[-1.0, 0.0, 1.0], colors=[\"blue\", \"black\", \"orange\"])\n",
    "plt.contour(plt_grid[..., 0], plt_grid[..., 1], pred_grid, levels=[-1, 0, 1], colors=('blue', 'black', 'orange'),\n",
    "             linestyles=('-',), linewidths=(2,))\n",
    "plt.contourf(plt_grid[..., 0], plt_grid[..., 1], pred_grid, levels=10)\n",
    "\n",
    "plt.colorbar()\n",
    "\n",
    "s0 =plt.scatter(x=train_samples[train_labels == -1, 0], y=train_samples[train_labels == -1, 1], label=\"c=-1\", c=\"blue\")\n",
    "s1 =plt.scatter(x=train_samples[train_labels == 1, 0], y=train_samples[train_labels == 1, 1], label=\"c=1\", c=\"orange\")\n",
    "plt.legend()\n",
    "\n",
    "plt.xlim(-1.5, 1.5)\n",
    "plt.ylim(-1.5, 1.5)\n",
    "plt.show()"
   ]
  },
  {
   "cell_type": "markdown",
   "metadata": {},
   "source": [
    "## 3.) Kernelized Support Vector Machine (8 Points) \n",
    "\n",
    "In this exercise we will implement another SVM on the two moons dataset, this time using the kernel trick.\n",
    "\n",
    "The kernelized dual optimization problem for training an SVM is stated in the slides and can be written as a \"Quadratic Program\", i.e., an optimization of a quadratic objective under linear equality and inequality constraints - a problem of the form\n",
    "$$ min_\\boldsymbol{x} 0.5 \\boldsymbol{x}^T \\boldsymbol{Q} \\boldsymbol{x} + \\boldsymbol{q}^T \\boldsymbol{x} ~~ \\textrm{s.t.} ~~ \\boldsymbol{G}\\boldsymbol{x} \\leq \\boldsymbol{h}, ~~ \\boldsymbol{Ax} = \\boldsymbol{b}.$$ \n",
    "\n",
    "Efficient solvers for those kind of problems are well known and implemented in most programming languages. Here we use the CVXPY library.\n",
    "\n",
    "You can treat this function as a black-box here but also feel free to have a closer look. CVXPY can be used not only for quadratic programs but in general, for any convex optimization problem. The documentation can be found here https://cvxopt.org/index.html\n"
   ]
  },
  {
   "cell_type": "code",
   "execution_count": 16,
   "metadata": {},
   "outputs": [],
   "source": [
    "%matplotlib inline\n",
    "\n",
    "import numpy as np\n",
    "import matplotlib.pyplot as plt\n",
    "from matplotlib import colors\n",
    "from typing import Union, Optional"
   ]
  },
  {
   "cell_type": "code",
   "execution_count": 17,
   "metadata": {},
   "outputs": [],
   "source": [
    "import cvxpy as cp\n",
    "\n",
    "def solve_qp(Q: np.ndarray, q: np.ndarray,\n",
    "             G:np.ndarray, h: Union[np.ndarray, float],\n",
    "             A:np.ndarray, b: Union[np.ndarray, float]) -> np.ndarray:\n",
    "    \"\"\"\n",
    "    solves quadratic problem: min_x  0.5x^T Q x + q.^T x s.t. Gx <= h and Ax = b\n",
    "      in the following 'dim' refers to the dimensionality of the optimization variable x\n",
    "    :param Q: matrix of the quadratic term of the objective, (shape [dim, dim])\n",
    "    :param q: vector for the linear term of the objective, (shape [dim])\n",
    "    :param G: factor for lhs of the inequality constraint (shape [dim], or [dim, dim])\n",
    "    :param h: rhs of the inequality constraint (shape [dim], or scalar)\n",
    "    :param A: factor for lhs of the equality constraint (shape [dim], or [dim, dim])\n",
    "    :param b: rhs of the equality constraint (shape [dim], or scalar)\n",
    "    :return: optimal x (shape [dim])\n",
    "    \"\"\"\n",
    "    x = cp.Variable(q.shape[0])\n",
    "    prob = cp.Problem(cp.Minimize(0.5 * cp.quad_form(x, Q) + q.T @ x), constraints=[G @ x <= h, A @ x == b])\n",
    "    prob.solve()\n",
    "    return x.value"
   ]
  },
  {
   "cell_type": "markdown",
   "metadata": {},
   "source": [
    "As you may have noticed the problem solved by the solver above differs from the one stated in the slides. Yet the equations from the slides can be reformulated, such that the solver can be used. \n",
    "\n",
    "### Exercise 3.1 (2 Points)  \n",
    "Formulate the kernelized svm dual problem such that the solver can be used to solve it. I.e., state the quantities you need to pass for $\\boldsymbol{Q}, \\boldsymbol{q}, \\boldsymbol{G}, \\boldsymbol{h}, \\boldsymbol{A}, \\boldsymbol{b}$"
   ]
  },
  {
   "cell_type": "markdown",
   "metadata": {},
   "source": [
    "When we set the value in this way, we can formulate the kernal based SVM as a quadratic programming: \n",
    "\\begin{equation} \n",
    "min_\\boldsymbol{x} 0.5 \\boldsymbol{x}^T \\boldsymbol{Q} \\boldsymbol{x} + \\boldsymbol{q}^T \\boldsymbol{x} ~~ \\textrm{s.t.} ~~ \\boldsymbol{G}\\boldsymbol{x} \\leq \\boldsymbol{h}, ~~ \\boldsymbol{Ax} = \\boldsymbol{b}.\n",
    "\\end{equation}\n",
    "\n",
    "\n",
    "\\begin{equation}\n",
    "\\label{eq1}\n",
    "\\mathbf{Q} = \\begin{bmatrix}\n",
    "q_{11} & q_{12} ...& q_{1n}\\\\\n",
    "q_{21} & q_{22} & q_{2n}\n",
    "\\end{bmatrix} \n",
    ", \\quad  q_{ij} = y_i y_j k(x_i, y_j),\n",
    "\\mathbf{q} = \\begin{bmatrix}\n",
    "1 \\\\\n",
    "1 \\\\\n",
    "\\vdots\\\\\n",
    "1 \\\\\n",
    "\\end{bmatrix} ,\n",
    "\\mathbf{A} = \\begin{bmatrix}\n",
    "y_1 & y_2 & y_3 ... & y_n \n",
    "\\end{bmatrix}\n",
    ",\n",
    "\\mathbf{h} = \\begin{bmatrix}\n",
    "0 \\\\\n",
    "0 \\\\\n",
    "\\vdots\\\\\n",
    "0 \\\\\n",
    "\\end{bmatrix}\n",
    "\\end{equation}\n",
    "\n",
    "\\begin{equation}\n",
    "\\mathbf{G} = \\begin{bmatrix}\n",
    "1 & 0 & 0 ... & 0 \\\\\n",
    "0 & 1 & 0 ... & 0 \\\\\n",
    "\\vdots& \\vdots & ... &\\vdots\\\\\n",
    "0 & 0 & 0 ... & 1 \\\\\n",
    "\\end{bmatrix} \n",
    "\\end{equation}"
   ]
  },
  {
   "cell_type": "markdown",
   "metadata": {},
   "source": [
    "### Exercise 3.2 (3 Points)\n",
    "Implement the functions below so that the SVM can be trained and use for prediction\n"
   ]
  },
  {
   "cell_type": "code",
   "execution_count": 18,
   "metadata": {},
   "outputs": [],
   "source": [
    "def get_gaussian_kernel_matrix(x: np.ndarray, sigma: float, y: Optional[np.ndarray] = None) -> np.ndarray:\n",
    "    \"\"\" Computes Kernel matrix K(x,y) between two sets of data points x, y  for a Gaussian Kernel with bandwidth sigma.\n",
    "    If y is not given it is assumed to be equal to x, i.e. K(x,x) is computed\n",
    "    :param x: matrix containing first set of points (shape: [N, data_dim])\n",
    "    :param sigma: bandwidth of gaussian kernel\n",
    "    :param y: matrix containing second set of points (shape: [M, data_dim])\n",
    "    :return: kernel matrix K(x,y) (shape [M, N])\n",
    "    \"\"\"\n",
    "    map=lambda err: np.exp(-1 * err.T  @ err/ (2 * sigma))\n",
    "    N, data_dim = x.shape\n",
    "    gauss_kernal_mat = np.zeros((N, N))\n",
    "    if y is None:\n",
    "        y = x\n",
    "    M, data_dim = y.shape\n",
    "    for i in range(N):\n",
    "        for j in range(M):\n",
    "            gauss_kernal_mat[i, j] = map(x[i]-y[j])\n",
    "    return gauss_kernal_mat\n",
    "\n",
    "\n",
    "\n",
    "def fit_svm(samples: np.ndarray, labels: np.ndarray, sigma: float) -> np.ndarray:\n",
    "    \"\"\"\n",
    "    fits an svm (with Gaussian Kernel)\n",
    "    :param samples: samples to fit the SVM to (shape: [N, data_dim])\n",
    "    :param labels: class labels corresponding to samples (shape: [N])\n",
    "    :param sigma: bandwidth of gaussian kernel\n",
    "    :return: \"alpha\" values, weight for each datapoint in the dual formulation of SVM (shape [N])\n",
    "    \"\"\"\n",
    "    ### TODO ######################\n",
    "    N, data_dim = samples.shape\n",
    "    Q = np.zeros((N, N))\n",
    "    gauss_kernal_mat = get_gaussian_kernel_matrix(samples, sigma)\n",
    "    for i in range(N):\n",
    "        for j in range(N):\n",
    "            Q[i, j] = labels[i]*labels[j]*gauss_kernal_mat[i, j]\n",
    "\n",
    "    q = -1 * np.ones(N)\n",
    "    A = labels\n",
    "    h = np.zeros(N)\n",
    "    G = -1 * np.eye(100)\n",
    "    b = np.array([0])\n",
    "\n",
    "    s = solve_qp(Q, q, G, h, A, b)\n",
    "    epsilon = 1e-7\n",
    "    s[np.abs(s)<epsilon] = 0\n",
    "    return s\n",
    "\n",
    "\n",
    "\n",
    "def predict_svm(samples_query: np.ndarray, samples_train: np.ndarray, labels_train: np.ndarray,\n",
    "                alphas: np.ndarray, sigma: float) -> np.ndarray:\n",
    "    \"\"\"\n",
    "    predict labels for query samples given training data and weights\n",
    "    :param samples_query: samples to query (i.e., predict labels) (shape: [N_query, data_dim])\n",
    "    :param samples_train: samples that where used to train svm (shape: [N_train, data_dim])\n",
    "    :param labels_train: labels corresponding to samples that where used to train svm (shape: [N_train])\n",
    "    :param alphas: alphas computed by training procedure (shape: [N_train])\n",
    "    :param sigma: bandwidth of gaussian kernel\n",
    "    :return: predicted labels for query points (shape: [N_query])\n",
    "    \"\"\"\n",
    "    ### TODO ######################\n",
    "    N, data_dim = train_samples.shape\n",
    "    k = get_gaussian_kernel_matrix(samples_query, sigma, samples_train)\n",
    "    alphas[alphas < 0] = 0\n",
    "    b = train_labels - np.sum(np.array([labels_train * alphas * k[:, i] for i in range(N)]), axis=1)\n",
    "    f_x = np.sum([labels_train * alphas * k[i, :] for i in range(N)], axis=1) + b\n",
    "    ###############################\n",
    "    return f_x"
   ]
  },
  {
   "cell_type": "markdown",
   "metadata": {},
   "source": [
    "We can now execute the code, train and visualize an SVM. For $\\sigma = 0.3$ you should get a train accuracy of $1.0$ and a test accuracy of $> 0.97$. You will also get two plots. The first shows all datapoints together with the decision boundary, margins and a countour plot of the svm's predictions. The second one shows again the decision boundary and margins and support vectors (the lower the value $\\alpha_i$ is, the more transparent the corresponding point in the plot is, so you will not see most points and only the \"importent ones\", i.e., the support vectors).   \n",
    "\n",
    "### Exercise 3.3 (3 Points)\n",
    "Evaluate different values of sigma in the range of $0.01$ to $1.5$. What do you observe:\n",
    "- How does the train accuracy change for different values? Why does it behave in this way?\n",
    "- How does the test accuracy change for different values?\n",
    "- How does the number of support vectors change for different values? What is the intuition behind this?\n",
    "- For large values of $\\sigma$ (roughly $\\geq1$) you will get an \"ArpackNoConvergence\" error. This essentially means that the qp-solver was not able to find a solution. Why does this happen? How can we prevent it?"
   ]
  },
  {
   "cell_type": "code",
   "execution_count": 21,
   "metadata": {},
   "outputs": [
    {
     "name": "stdout",
     "output_type": "stream",
     "text": [
      "Train Accuracy:  1.0\n",
      "Test Accuracy:  0.54\n"
     ]
    }
   ],
   "source": [
    "sigma = 0.3\n",
    "\n",
    "# train\n",
    "alphas = fit_svm(train_samples, train_labels, sigma)\n",
    "\n",
    "# evaluate \n",
    "train_predictions = predict_svm(train_samples, train_samples, train_labels, alphas, sigma)\n",
    "test_predictions = predict_svm(test_samples, train_samples, train_labels, alphas, sigma)\n",
    "\n",
    "predicted_train_labels = np.ones(train_predictions.shape)\n",
    "predicted_train_labels[train_predictions < 0] = -1\n",
    "print(\"Train Accuracy: \", np.count_nonzero(predicted_train_labels == train_labels) / len(train_labels))\n",
    "\n",
    "predicted_test_labels = np.ones(test_predictions.shape)\n",
    "predicted_test_labels[test_predictions < 0] = -1\n",
    "print(\"Test Accuracy: \", np.count_nonzero(predicted_test_labels == test_labels) / len(test_labels))"
   ]
  },
  {
   "cell_type": "code",
   "execution_count": 20,
   "metadata": {},
   "outputs": [
    {
     "ename": "MemoryError",
     "evalue": "Unable to allocate 191. GiB for an array with shape (160000, 160000) and data type float64",
     "output_type": "error",
     "traceback": [
      "\u001b[0;31m---------------------------------------------------------------------------\u001b[0m",
      "\u001b[0;31mMemoryError\u001b[0m                               Traceback (most recent call last)",
      "\u001b[0;32m<ipython-input-20-159d7223f30d>\u001b[0m in \u001b[0;36m<module>\u001b[0;34m\u001b[0m\n\u001b[1;32m      6\u001b[0m \u001b[0mplt_grid_shape\u001b[0m \u001b[0;34m=\u001b[0m \u001b[0mplt_grid\u001b[0m\u001b[0;34m.\u001b[0m\u001b[0mshape\u001b[0m\u001b[0;34m[\u001b[0m\u001b[0;34m:\u001b[0m\u001b[0;36m2\u001b[0m\u001b[0;34m]\u001b[0m\u001b[0;34m\u001b[0m\u001b[0;34m\u001b[0m\u001b[0m\n\u001b[1;32m      7\u001b[0m \u001b[0;34m\u001b[0m\u001b[0m\n\u001b[0;32m----> 8\u001b[0;31m \u001b[0mpred_grid\u001b[0m \u001b[0;34m=\u001b[0m \u001b[0mnp\u001b[0m\u001b[0;34m.\u001b[0m\u001b[0mreshape\u001b[0m\u001b[0;34m(\u001b[0m\u001b[0mpredict_svm\u001b[0m\u001b[0;34m(\u001b[0m\u001b[0mflat_plt_grid\u001b[0m\u001b[0;34m,\u001b[0m \u001b[0mtrain_samples\u001b[0m\u001b[0;34m,\u001b[0m \u001b[0mtrain_labels\u001b[0m\u001b[0;34m,\u001b[0m \u001b[0malphas\u001b[0m\u001b[0;34m,\u001b[0m \u001b[0msigma\u001b[0m\u001b[0;34m)\u001b[0m\u001b[0;34m,\u001b[0m \u001b[0mplt_grid_shape\u001b[0m\u001b[0;34m)\u001b[0m\u001b[0;34m\u001b[0m\u001b[0;34m\u001b[0m\u001b[0m\n\u001b[0m\u001b[1;32m      9\u001b[0m plt.contour(plt_grid[..., 0], plt_grid[..., 1], pred_grid, levels=[-1, 0, 1], colors=('blue', 'black', 'orange'),\n\u001b[1;32m     10\u001b[0m              linestyles=('-',), linewidths=(2,))\n",
      "\u001b[0;32m<ipython-input-18-4d9be57482e3>\u001b[0m in \u001b[0;36mpredict_svm\u001b[0;34m(samples_query, samples_train, labels_train, alphas, sigma)\u001b[0m\n\u001b[1;32m     62\u001b[0m     \u001b[0;31m### TODO ######################\u001b[0m\u001b[0;34m\u001b[0m\u001b[0;34m\u001b[0m\u001b[0;34m\u001b[0m\u001b[0m\n\u001b[1;32m     63\u001b[0m     \u001b[0mN\u001b[0m\u001b[0;34m,\u001b[0m \u001b[0mdata_dim\u001b[0m \u001b[0;34m=\u001b[0m \u001b[0mtrain_samples\u001b[0m\u001b[0;34m.\u001b[0m\u001b[0mshape\u001b[0m\u001b[0;34m\u001b[0m\u001b[0;34m\u001b[0m\u001b[0m\n\u001b[0;32m---> 64\u001b[0;31m     \u001b[0mk\u001b[0m \u001b[0;34m=\u001b[0m \u001b[0mget_gaussian_kernel_matrix\u001b[0m\u001b[0;34m(\u001b[0m\u001b[0msamples_query\u001b[0m\u001b[0;34m,\u001b[0m \u001b[0msigma\u001b[0m\u001b[0;34m,\u001b[0m \u001b[0msamples_train\u001b[0m\u001b[0;34m)\u001b[0m\u001b[0;34m\u001b[0m\u001b[0;34m\u001b[0m\u001b[0m\n\u001b[0m\u001b[1;32m     65\u001b[0m     \u001b[0malphas\u001b[0m\u001b[0;34m[\u001b[0m\u001b[0malphas\u001b[0m \u001b[0;34m<\u001b[0m \u001b[0;36m0\u001b[0m\u001b[0;34m]\u001b[0m \u001b[0;34m=\u001b[0m \u001b[0;36m0\u001b[0m\u001b[0;34m\u001b[0m\u001b[0;34m\u001b[0m\u001b[0m\n\u001b[1;32m     66\u001b[0m     \u001b[0mb\u001b[0m \u001b[0;34m=\u001b[0m \u001b[0mtrain_labels\u001b[0m \u001b[0;34m-\u001b[0m \u001b[0mnp\u001b[0m\u001b[0;34m.\u001b[0m\u001b[0msum\u001b[0m\u001b[0;34m(\u001b[0m\u001b[0mnp\u001b[0m\u001b[0;34m.\u001b[0m\u001b[0marray\u001b[0m\u001b[0;34m(\u001b[0m\u001b[0;34m[\u001b[0m\u001b[0mlabels_train\u001b[0m \u001b[0;34m*\u001b[0m \u001b[0malphas\u001b[0m \u001b[0;34m*\u001b[0m \u001b[0mk\u001b[0m\u001b[0;34m[\u001b[0m\u001b[0;34m:\u001b[0m\u001b[0;34m,\u001b[0m \u001b[0mi\u001b[0m\u001b[0;34m]\u001b[0m \u001b[0;32mfor\u001b[0m \u001b[0mi\u001b[0m \u001b[0;32min\u001b[0m \u001b[0mrange\u001b[0m\u001b[0;34m(\u001b[0m\u001b[0mN\u001b[0m\u001b[0;34m)\u001b[0m\u001b[0;34m]\u001b[0m\u001b[0;34m)\u001b[0m\u001b[0;34m,\u001b[0m \u001b[0maxis\u001b[0m\u001b[0;34m=\u001b[0m\u001b[0;36m1\u001b[0m\u001b[0;34m)\u001b[0m\u001b[0;34m\u001b[0m\u001b[0;34m\u001b[0m\u001b[0m\n",
      "\u001b[0;32m<ipython-input-18-4d9be57482e3>\u001b[0m in \u001b[0;36mget_gaussian_kernel_matrix\u001b[0;34m(x, sigma, y)\u001b[0m\n\u001b[1;32m      9\u001b[0m     \u001b[0mmap\u001b[0m\u001b[0;34m=\u001b[0m\u001b[0;32mlambda\u001b[0m \u001b[0merr\u001b[0m\u001b[0;34m:\u001b[0m \u001b[0mnp\u001b[0m\u001b[0;34m.\u001b[0m\u001b[0mexp\u001b[0m\u001b[0;34m(\u001b[0m\u001b[0;34m-\u001b[0m\u001b[0;36m1\u001b[0m \u001b[0;34m*\u001b[0m \u001b[0merr\u001b[0m\u001b[0;34m.\u001b[0m\u001b[0mT\u001b[0m  \u001b[0;34m@\u001b[0m \u001b[0merr\u001b[0m\u001b[0;34m/\u001b[0m \u001b[0;34m(\u001b[0m\u001b[0;36m2\u001b[0m \u001b[0;34m*\u001b[0m \u001b[0msigma\u001b[0m\u001b[0;34m)\u001b[0m\u001b[0;34m)\u001b[0m\u001b[0;34m\u001b[0m\u001b[0;34m\u001b[0m\u001b[0m\n\u001b[1;32m     10\u001b[0m     \u001b[0mN\u001b[0m\u001b[0;34m,\u001b[0m \u001b[0mdata_dim\u001b[0m \u001b[0;34m=\u001b[0m \u001b[0mx\u001b[0m\u001b[0;34m.\u001b[0m\u001b[0mshape\u001b[0m\u001b[0;34m\u001b[0m\u001b[0;34m\u001b[0m\u001b[0m\n\u001b[0;32m---> 11\u001b[0;31m     \u001b[0mgauss_kernal_mat\u001b[0m \u001b[0;34m=\u001b[0m \u001b[0mnp\u001b[0m\u001b[0;34m.\u001b[0m\u001b[0mzeros\u001b[0m\u001b[0;34m(\u001b[0m\u001b[0;34m(\u001b[0m\u001b[0mN\u001b[0m\u001b[0;34m,\u001b[0m \u001b[0mN\u001b[0m\u001b[0;34m)\u001b[0m\u001b[0;34m)\u001b[0m\u001b[0;34m\u001b[0m\u001b[0;34m\u001b[0m\u001b[0m\n\u001b[0m\u001b[1;32m     12\u001b[0m     \u001b[0;32mif\u001b[0m \u001b[0my\u001b[0m \u001b[0;32mis\u001b[0m \u001b[0;32mNone\u001b[0m\u001b[0;34m:\u001b[0m\u001b[0;34m\u001b[0m\u001b[0;34m\u001b[0m\u001b[0m\n\u001b[1;32m     13\u001b[0m         \u001b[0my\u001b[0m \u001b[0;34m=\u001b[0m \u001b[0mx\u001b[0m\u001b[0;34m\u001b[0m\u001b[0;34m\u001b[0m\u001b[0m\n",
      "\u001b[0;31mMemoryError\u001b[0m: Unable to allocate 191. GiB for an array with shape (160000, 160000) and data type float64"
     ]
    },
    {
     "data": {
      "text/plain": [
       "<Figure size 432x288 with 0 Axes>"
      ]
     },
     "metadata": {},
     "output_type": "display_data"
    }
   ],
   "source": [
    "# plot train, contour, decision boundary and margins \n",
    "plt.figure()\n",
    "plt_range = np.arange(-1.5, 2.5, 0.01)\n",
    "plt_grid = np.stack(np.meshgrid(plt_range, plt_range), axis=-1)\n",
    "flat_plt_grid = np.reshape(plt_grid, [-1, 2])\n",
    "plt_grid_shape = plt_grid.shape[:2]\n",
    "\n",
    "pred_grid = np.reshape(predict_svm(flat_plt_grid, train_samples, train_labels, alphas, sigma), plt_grid_shape)\n",
    "plt.contour(plt_grid[..., 0], plt_grid[..., 1], pred_grid, levels=[-1, 0, 1], colors=('blue', 'black', 'orange'),\n",
    "             linestyles=('-',), linewidths=(2,))\n",
    "plt.contourf(plt_grid[..., 0], plt_grid[..., 1], pred_grid, levels=10)\n",
    "\n",
    "plt.colorbar()\n",
    "\n",
    "plt.scatter(x=train_samples[train_labels == -1, 0], y=train_samples[train_labels == -1, 1], label=\"c=-1\", c=\"blue\")\n",
    "plt.scatter(x=train_samples[train_labels == 1, 0], y=train_samples[train_labels == 1, 1], label=\"c=1\", c=\"orange\")\n",
    "plt.legend()\n",
    "\n",
    "# plot margin, decision boundary and support vectors\n",
    "plt.figure()\n",
    "plt.contour(plt_grid[..., 0], plt_grid[..., 1], pred_grid, levels=[-1, 0, 1], colors=('blue', 'black', 'orange'),\n",
    "             linestyles=('-',), linewidths=(2,))\n",
    "\n",
    "# squeeze alpha values into interval [0, 1] for plotting\n",
    "alphas_plt = np.clip(alphas / np.max(alphas), a_min=0.0, a_max=1.0)\n",
    "for label, color in zip([-1, 1], [\"blue\", \"orange\"]):\n",
    "    color_rgb = colors.to_rgb(color)\n",
    "    samples = train_samples[train_labels == label]\n",
    "    color_rgba = np.zeros((len(samples), 4))\n",
    "    color_rgba[:, :3] = color_rgb\n",
    "    color_rgba[:, 3] = alphas_plt[train_labels == label]\n",
    "    plt.scatter(x=samples[:, 0], y=samples[:, 1], c=color_rgba)\n",
    "\n",
    "\n",
    "plt.xlim(-1.5, 2.5)\n",
    "plt.show()"
   ]
  },
  {
   "cell_type": "code",
   "execution_count": null,
   "metadata": {},
   "outputs": [],
   "source": []
  },
  {
   "cell_type": "code",
   "execution_count": null,
   "metadata": {},
   "outputs": [],
   "source": []
  },
  {
   "cell_type": "code",
   "execution_count": null,
   "metadata": {},
   "outputs": [],
   "source": []
  }
 ],
 "metadata": {
  "kernelspec": {
   "display_name": "Python 3",
   "language": "python",
   "name": "python3"
  },
  "language_info": {
   "codemirror_mode": {
    "name": "ipython",
    "version": 3
   },
   "file_extension": ".py",
   "mimetype": "text/x-python",
   "name": "python",
   "nbconvert_exporter": "python",
   "pygments_lexer": "ipython3",
   "version": "3.8.5"
  }
 },
 "nbformat": 4,
 "nbformat_minor": 4
}
